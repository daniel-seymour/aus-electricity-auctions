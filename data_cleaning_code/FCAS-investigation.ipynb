{
 "cells": [
  {
   "cell_type": "code",
   "execution_count": 2,
   "id": "1921bad6",
   "metadata": {},
   "outputs": [
    {
     "name": "stdout",
     "output_type": "stream",
     "text": [
      "\u001b[31mERROR: Ignored the following versions that require a different python version: 0.1.0 Requires-Python >=3.8,<3.11; 0.10.0 Requires-Python >=3.8,<3.11; 0.11.0 Requires-Python >=3.8,<3.11; 0.2.0 Requires-Python >=3.8,<3.11; 0.3.0 Requires-Python >=3.8,<3.11; 0.4.0 Requires-Python >=3.8,<3.11; 0.5.0 Requires-Python >=3.8,<3.11; 0.6.0 Requires-Python >=3.8,<3.11; 0.7.0 Requires-Python >=3.8,<3.11; 0.8.0 Requires-Python >=3.8,<3.11; 0.9.0 Requires-Python >=3.8,<3.11; 1.0.0 Requires-Python >=3.8,<3.11; 1.0.1 Requires-Python >=3.8,<3.11; 1.0.2 Requires-Python >=3.8,<3.11; 1.0.3 Requires-Python >=3.8,<3.11; 1.0.4 Requires-Python >=3.8,<3.11; 1.0.5 Requires-Python >=3.8,<3.11; 1.0.6 Requires-Python >=3.8,<3.11; 1.0.7 Requires-Python >=3.8,<3.11; 1.0.8 Requires-Python >=3.8,<3.11\u001b[0m\u001b[31m\n",
      "\u001b[0m\u001b[31mERROR: Could not find a version that satisfies the requirement nem_bidding_dashboard (from versions: none)\u001b[0m\u001b[31m\n",
      "\u001b[0m\u001b[31mERROR: No matching distribution found for nem_bidding_dashboard\u001b[0m\u001b[31m\n",
      "\u001b[0mNote: you may need to restart the kernel to use updated packages.\n"
     ]
    }
   ],
   "source": [
    "pip install nem_bidding_dashboard"
   ]
  },
  {
   "cell_type": "code",
   "execution_count": 1,
   "id": "3bf4e1aa",
   "metadata": {},
   "outputs": [
    {
     "ename": "ModuleNotFoundError",
     "evalue": "No module named 'nem_bidding_dashboard'",
     "output_type": "error",
     "traceback": [
      "\u001b[0;31m---------------------------------------------------------------------------\u001b[0m",
      "\u001b[0;31mModuleNotFoundError\u001b[0m                       Traceback (most recent call last)",
      "Cell \u001b[0;32mIn[1], line 7\u001b[0m\n\u001b[1;32m      5\u001b[0m \u001b[38;5;28;01mfrom\u001b[39;00m \u001b[38;5;21;01mnemosis\u001b[39;00m \u001b[38;5;28;01mimport\u001b[39;00m static_table, dynamic_data_compiler\n\u001b[1;32m      6\u001b[0m \u001b[38;5;28;01mimport\u001b[39;00m \u001b[38;5;21;01mplotly\u001b[39;00m\u001b[38;5;21;01m.\u001b[39;00m\u001b[38;5;21;01mexpress\u001b[39;00m \u001b[38;5;28;01mas\u001b[39;00m \u001b[38;5;21;01mpx\u001b[39;00m\n\u001b[0;32m----> 7\u001b[0m \u001b[38;5;28;01mimport\u001b[39;00m \u001b[38;5;21;01mnem_bidding_dashboard\u001b[39;00m\n\u001b[1;32m      9\u001b[0m raw_data_cache \u001b[38;5;241m=\u001b[39m \u001b[38;5;124m'\u001b[39m\u001b[38;5;124m/Volumes/T7/NEMO_data\u001b[39m\u001b[38;5;124m'\u001b[39m\n\u001b[1;32m     11\u001b[0m pd\u001b[38;5;241m.\u001b[39mset_option(\u001b[38;5;124m'\u001b[39m\u001b[38;5;124mdisplay.max_columns\u001b[39m\u001b[38;5;124m'\u001b[39m, \u001b[38;5;28;01mNone\u001b[39;00m)\n",
      "\u001b[0;31mModuleNotFoundError\u001b[0m: No module named 'nem_bidding_dashboard'"
     ]
    }
   ],
   "source": [
    "import pandas as pd\n",
    "import numpy as np\n",
    "from datetime import timedelta, datetime\n",
    "import matplotlib.pyplot as plt\n",
    "from nemosis import static_table, dynamic_data_compiler\n",
    "import plotly.express as px\n",
    "import nem_bidding_dashboard\n",
    "\n",
    "raw_data_cache = '/Volumes/T7/NEMO_data'\n",
    "\n",
    "pd.set_option('display.max_columns', None)"
   ]
  },
  {
   "cell_type": "code",
   "execution_count": null,
   "id": "e2f4bc5f",
   "metadata": {},
   "outputs": [],
   "source": [
    "# Get the price bids.\n",
    "price_data = dynamic_data_compiler(start_time='2021/03/01 00:00:00',\n",
    "                                   end_time='2021/04/10 00:00:00',\n",
    "                                   table_name='DISPATCHPRICE',\n",
    "                                   raw_data_location=raw_data_cache)"
   ]
  }
 ],
 "metadata": {
  "kernelspec": {
   "display_name": "Python 3 (ipykernel)",
   "language": "python",
   "name": "python3"
  },
  "language_info": {
   "codemirror_mode": {
    "name": "ipython",
    "version": 3
   },
   "file_extension": ".py",
   "mimetype": "text/x-python",
   "name": "python",
   "nbconvert_exporter": "python",
   "pygments_lexer": "ipython3",
   "version": "3.11.3"
  }
 },
 "nbformat": 4,
 "nbformat_minor": 5
}
